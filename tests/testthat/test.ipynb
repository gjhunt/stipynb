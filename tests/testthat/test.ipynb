{
 "cells": [
  {
   "cell_type": "code",
   "execution_count": null,
   "id": "0",
   "metadata": {
    "vscode": {
     "languageId": "r"
    }
   },
   "outputs": [],
   "source": [
    "x <- 1\n",
    "print(\n",
    "  \"abcdef\"\n",
    ")\n",
    "\n",
    "x <- 11\n",
    "x=1234\n",
    "\n",
    "print(\"laksjdflskjlkj\"\n",
    ")\n",
    "\n",
    "y <- 12930293809\n",
    "\n",
    "x %>% foo() %>% bar()\n"
   ]
  },
  {
   "cell_type": "code",
   "execution_count": null,
   "id": "1",
   "metadata": {
    "vscode": {
     "languageId": "r"
    }
   },
   "outputs": [],
   "source": [
    "x * 2\n"
   ]
  },
  {
   "cell_type": "code",
   "execution_count": null,
   "id": "2",
   "metadata": {
    "vscode": {
     "languageId": "r"
    }
   },
   "outputs": [],
   "source": [
    "print(\"hello world\")\n"
   ]
  },
  {
   "cell_type": "code",
   "execution_count": null,
   "id": "3",
   "metadata": {
    "vscode": {
     "languageId": "r"
    }
   },
   "outputs": [],
   "source": [
    "\n"
   ]
  },
  {
   "cell_type": "code",
   "execution_count": null,
   "id": "4",
   "metadata": {
    "vscode": {
     "languageId": "r"
    }
   },
   "outputs": [],
   "source": [
    "x <- 1\n",
    "print(\n",
    "  \"abcdef\"\n",
    ")\n",
    "\n",
    "x=11\n",
    "x=1234\n",
    "\n",
    "print(\"laksjdflskjlkj\"\n",
    ")\n",
    "\n",
    "y=2930293809\n",
    "\n",
    "x %>% foo() %>% bar() %>% baz()\n"
   ]
  }
 ],
 "metadata": {
  "kernelspec": {
   "display_name": "R",
   "language": "R",
   "name": "ir"
  },
  "language_info": {
   "codemirror_mode": "r",
   "file_extension": ".r",
   "mimetype": "text/x-r-source",
   "name": "R",
   "pygments_lexer": "r",
   "version": "4.4.2"
  }
 },
 "nbformat": 4,
 "nbformat_minor": 5
}
